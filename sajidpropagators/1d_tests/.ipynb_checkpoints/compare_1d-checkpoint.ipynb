{
 "cells": [
  {
   "cell_type": "code",
   "execution_count": 1,
   "metadata": {},
   "outputs": [],
   "source": [
    "import numpy as np\n",
    "import matplotlib.pyplot as plt\n",
    "import numexpr as ne\n",
    "%run ../prop/propagators_1d.py"
   ]
  },
  {
   "cell_type": "code",
   "execution_count": 2,
   "metadata": {},
   "outputs": [],
   "source": [
    "energy = 10000\n",
    "wavel = (1240/energy)*10**(-9)\n",
    "#wavel = 0.5*10**(-6)\n",
    "pi = np.pi\n",
    "z = 1000e-6\n",
    "N = 1000\n",
    "L_in  = 10e-6\n",
    "\n",
    "in_domain_exact  = np.linspace(-L_in/2,L_in/2,N)\n",
    "in_wave = np.zeros(N)\n",
    "in_wave[int(N/2)-int(N/8):int(N/2)+int(N/8)] = 1"
   ]
  },
  {
   "cell_type": "code",
   "execution_count": 3,
   "metadata": {},
   "outputs": [
    {
     "name": "stdout",
     "output_type": "stream",
     "text": [
      "False\n",
      "Fresnel Number : 806.451612903226\n"
     ]
    }
   ],
   "source": [
    "sampling = in_domain_exact[1] - in_domain_exact[0]\n",
    "critical = (wavel*z/L_in)\n",
    "print(sampling>critical)\n",
    "print('Fresnel Number :', (L_in**2)/(wavel*z))"
   ]
  },
  {
   "cell_type": "code",
   "execution_count": null,
   "metadata": {},
   "outputs": [],
   "source": [
    "out_,L_ = propIR(in_wave,L_in/N,L_in,wavel,z)\n",
    "out_domain_ = np.linspace(-L_/2,L_/2,N)"
   ]
  },
  {
   "cell_type": "code",
   "execution_count": null,
   "metadata": {},
   "outputs": [],
   "source": [
    "N = 1000\n",
    "in_domain_exact  = np.linspace(-L_in/2,L_in/2,N)\n",
    "in_wave = np.zeros(N)\n",
    "in_wave[int(N/2)-int(N/8):int(N/2)+int(N/8)] = 1\n",
    "out_wave_exact = np.zeros((N),dtype='complex128')\n",
    "exact_prop(in_wave,out_wave_exact,L_in,L_,wavel,z)"
   ]
  },
  {
   "cell_type": "code",
   "execution_count": null,
   "metadata": {},
   "outputs": [],
   "source": [
    "f, (ax1,ax2,ax3) = plt.subplots(1,3)\n",
    "ax1.plot(in_domain_exact*1e6,np.abs(in_wave))\n",
    "ax1.set_xlabel('co-ordinates in um',fontsize = 15)\n",
    "ax1.set_title('Input', fontsize = 15)\n",
    "ax2.plot(np.abs(out_wave_exact),'b')\n",
    "ax2.set_xlabel('co-ordinates in um',fontsize = 15)\n",
    "ax2.set_title('Output Exact', fontsize = 15)\n",
    "ax3.plot( out_domain_*1e6,np.abs(out_),'g')\n",
    "ax3.set_xlabel('co-ordinates in um',fontsize = 15)\n",
    "ax3.set_title('Output IR', fontsize = 15)\n",
    "f.set_size_inches(20, 10, forward=True)\n",
    "f.suptitle('Fresnel Number : '+str((L_in**2)/(wavel*z)),fontsize = 25)\n",
    "plt.show()"
   ]
  },
  {
   "cell_type": "code",
   "execution_count": null,
   "metadata": {},
   "outputs": [],
   "source": [
    "'''\n",
    "f, (ax1,ax2) = plt.subplots(1,2)\n",
    "ax1.scatter(np.abs(out_),np.abs(out_wave_exact))\n",
    "ax1.set_title('Amplitude overlap', fontsize = 15)\n",
    "ax2.scatter(np.unwrap(np.angle(out_)),np.unwrap(np.angle(out_wave_exact)))\n",
    "ax1.set_title('Phase overlap', fontsize = 15)\n",
    "f.set_size_inches(20, 10, forward=True)\n",
    "plt.show()\n",
    "'''"
   ]
  },
  {
   "cell_type": "code",
   "execution_count": null,
   "metadata": {},
   "outputs": [],
   "source": []
  },
  {
   "cell_type": "code",
   "execution_count": null,
   "metadata": {},
   "outputs": [],
   "source": []
  }
 ],
 "metadata": {
  "kernelspec": {
   "display_name": "Python [conda env:intelpy3]",
   "language": "python",
   "name": "conda-env-intelpy3-py"
  },
  "language_info": {
   "codemirror_mode": {
    "name": "ipython",
    "version": 3
   },
   "file_extension": ".py",
   "mimetype": "text/x-python",
   "name": "python",
   "nbconvert_exporter": "python",
   "pygments_lexer": "ipython3",
   "version": "3.6.3"
  }
 },
 "nbformat": 4,
 "nbformat_minor": 2
}
