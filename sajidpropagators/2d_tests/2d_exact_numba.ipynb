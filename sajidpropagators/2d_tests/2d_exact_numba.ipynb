{
 "cells": [
  {
   "cell_type": "code",
   "execution_count": 1,
   "metadata": {},
   "outputs": [],
   "source": [
    "import numpy as np\n",
    "import numexpr as ne\n",
    "from numba import jit,prange\n",
    "import matplotlib.pyplot as plt"
   ]
  },
  {
   "cell_type": "code",
   "execution_count": 2,
   "metadata": {},
   "outputs": [],
   "source": [
    "'''\n",
    "Exact propagation in 2D. \n",
    "Only adding the @jit decorator. Gives some speedup but it generally brittle to \n",
    "explicit parallelization though it works here.\n",
    "'''\n",
    "@jit(nopython=True, parallel=True)\n",
    "def exact_prop_2D(in_wave,out_wave,L_in,L_out,wavel,z):\n",
    "    pi = np.pi\n",
    "    '''\n",
    "    Build the input and output domains from the input\n",
    "    '''\n",
    "    N_in_x = in_wave.shape[0]\n",
    "    N_in_y = in_wave.shape[1]\n",
    "    in_domain_x = np.linspace(-L_in/2,L_in/2,N_in_x)\n",
    "    in_domain_y = np.linspace(-L_in/2,L_in/2,N_in_y)\n",
    "    \n",
    "    N_out_x = out_wave.shape[0]\n",
    "    N_out_y = out_wave.shape[1]\n",
    "    out_domain_x = np.linspace(-L_out/2,L_out/2,N_out_x)\n",
    "    out_domain_y = np.linspace(-L_out/2,L_out/2,N_out_y)\n",
    "    \n",
    "    step_in_x = L_in/N_in_x\n",
    "    step_in_y = L_in/N_in_y\n",
    "    \n",
    "    '''\n",
    "    Outer loops over i,j -> loop over output array\n",
    "    Inner loops over p,q -> loop over input array\n",
    "    For each ouput point, calculate the contribution from each input point and sum \n",
    "    '''\n",
    "    for i in prange(N_out_x):\n",
    "        for j in prange(N_out_y):\n",
    "            for p in range(N_in_x):\n",
    "                for q in range(N_in_y):\n",
    "                    x  =  in_domain_x[p]\n",
    "                    y  =  in_domain_y[q]\n",
    "                    x1 = out_domain_x[i]\n",
    "                    y1 = out_domain_y[j]\n",
    "                    f  = in_wave[p][q]\n",
    "                    out_wave[i][j] += f*np.exp(((-1j*pi)/(wavel*z))*((x-x1)**2+(y-y1)**2))\n",
    "    out_wave *= ((1/np.sqrt(1j*wavel*z))*step_in_x)*((1/np.sqrt(1j*wavel*z))*step_in_y)\n",
    "    return"
   ]
  },
  {
   "cell_type": "code",
   "execution_count": 3,
   "metadata": {},
   "outputs": [
    {
     "name": "stdout",
     "output_type": "stream",
     "text": [
      "Use IR\n",
      "Fresnel Number : 5.0\n"
     ]
    }
   ],
   "source": [
    "wavel = 0.5*10**(-6)\n",
    "z = 100000.0\n",
    "N = 100\n",
    "L_in  = 0.5\n",
    "\n",
    "in_wave = np.zeros((N,N))\n",
    "in_wave[int(N/2)-int(N/8):int(N/2)+int(N/8),int(N/2)-int(N/8):int(N/2)+int(N/8)] = 1\n",
    "in_wave = np.array(in_wave,dtype=np.float64)\n",
    "\n",
    "out_wave = np.zeros((N,N),dtype=np.complex128)\n",
    "\n",
    "sampling = L_in/N\n",
    "critical = (wavel*z/L_in)\n",
    "if sampling>critical:\n",
    "    print('Use TF')\n",
    "else :\n",
    "    print('Use IR')\n",
    "print('Fresnel Number :', (L_in**2)/(wavel*z))"
   ]
  },
  {
   "cell_type": "code",
   "execution_count": 4,
   "metadata": {},
   "outputs": [],
   "source": [
    "exact_prop_2D(in_wave,out_wave,L_in,L_in,wavel,z)"
   ]
  },
  {
   "cell_type": "code",
   "execution_count": 5,
   "metadata": {},
   "outputs": [
    {
     "data": {
      "image/png": "[encoded data removed]",
      "text/plain": [
       "<Figure size 432x288 with 2 Axes>"
      ]
     },
     "metadata": {},
     "output_type": "display_data"
    }
   ],
   "source": [
    "f, (ax1,ax2) = plt.subplots(1,2)\n",
    "ax1.imshow(in_wave,cmap='jet')\n",
    "ax2.imshow(np.abs(out_wave),cmap='jet')\n",
    "plt.show()"
   ]
  },
  {
   "cell_type": "code",
   "execution_count": 6,
   "metadata": {},
   "outputs": [
    {
     "name": "stdout",
     "output_type": "stream",
     "text": [
      "1.67 s ± 58.8 ms per loop (mean ± std. dev. of 7 runs, 1 loop each)\n"
     ]
    }
   ],
   "source": [
    "%timeit exact_prop_2D(in_wave,out_wave,L_in,L_in,wavel,z)"
   ]
  },
  {
   "cell_type": "code",
   "execution_count": null,
   "metadata": {},
   "outputs": [],
   "source": []
  }
 ],
 "metadata": {
  "kernelspec": {
   "display_name": "Python 3",
   "language": "python",
   "name": "python3"
  },
  "language_info": {
   "codemirror_mode": {
    "name": "ipython",
    "version": 3
   },
   "file_extension": ".py",
   "mimetype": "text/x-python",
   "name": "python",
   "nbconvert_exporter": "python",
   "pygments_lexer": "ipython3",
   "version": "3.6.3"
  }
 },
 "nbformat": 4,
 "nbformat_minor": 2
}
