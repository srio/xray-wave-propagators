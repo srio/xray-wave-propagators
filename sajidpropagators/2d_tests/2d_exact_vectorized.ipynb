{
 "cells": [
  {
   "cell_type": "code",
   "execution_count": 1,
   "metadata": {},
   "outputs": [],
   "source": [
    "import numpy as np\n",
    "import numexpr as ne\n",
    "import matplotlib.pyplot as plt"
   ]
  },
  {
   "cell_type": "code",
   "execution_count": 2,
   "metadata": {},
   "outputs": [],
   "source": [
    "'''\n",
    "Exact propagation in 2D. \n",
    "Pure python loops. First attempt at getting the logic correctly, optimized using cython/numba later.\n",
    "'''\n",
    "def exact_prop_2D(in_wave,out_wave,L_in,L_out,wavel,z):\n",
    "    pi = np.pi\n",
    "    \n",
    "    '''\n",
    "    Build the input and output domains from the input\n",
    "    '''\n",
    "    N_in_x = np.shape(in_wave)[0]\n",
    "    N_in_y = np.shape(in_wave)[1]\n",
    "    in_domain_x = np.linspace(-L_in/2,L_in/2,N_in_x)\n",
    "    in_domain_y = np.linspace(-L_in/2,L_in/2,N_in_y)\n",
    "    \n",
    "    \n",
    "    N_out_x = np.shape(out_wave)[0]\n",
    "    N_out_y = np.shape(out_wave)[1]\n",
    "    out_domain_x = np.linspace(-L_out/2,L_out/2,N_out_x)\n",
    "    out_domain_y = np.linspace(-L_out/2,L_out/2,N_out_y)\n",
    "    \n",
    "    step_in_x = L_in/N_in_x\n",
    "    step_in_y = L_in/N_in_y\n",
    "    X_in,Y_in = np.meshgrid(in_domain_x,in_domain_y)\n",
    "    '''\n",
    "    Outer loops over i,j -> loop over output array\n",
    "    Inner loops over p,q -> loop over input array\n",
    "    For each ouput point, calculate the contribution from each input point and sum \n",
    "    '''\n",
    "    fac = ((-1j*pi)/(wavel*z))\n",
    "    for i in range(N_out_x):\n",
    "        for j in range(N_out_y):\n",
    "            x1 = out_domain_x[i]\n",
    "            y1 = out_domain_y[j]\n",
    "            out_wave[i][j] = ne.evaluate('sum(in_wave*exp(fac*((X_in-x1)**2+(Y_in-y1)**2)))')\n",
    "    '''\n",
    "    Finally scale the output\n",
    "    '''\n",
    "    out_wave *= ((1/np.sqrt(1j*wavel*z))*step_in_x)*((1/np.sqrt(1j*wavel*z))*step_in_y)\n",
    "    return"
   ]
  },
  {
   "cell_type": "code",
   "execution_count": 3,
   "metadata": {},
   "outputs": [],
   "source": [
    "wavel = 0.5*10**(-6)\n",
    "pi = np.pi\n",
    "z = 100000\n",
    "N = 1000\n",
    "L_in  = 5e-1\n",
    "\n",
    "in_wave = np.zeros((N,N))\n",
    "in_wave[int(N/2)-int(N/8):int(N/2)+int(N/8),int(N/2)-int(N/8):int(N/2)+int(N/8)] = 1\n",
    "out_wave = np.zeros((100,100),dtype='complex128')"
   ]
  },
  {
   "cell_type": "code",
   "execution_count": 4,
   "metadata": {},
   "outputs": [],
   "source": [
    "exact_prop_2D(in_wave,out_wave,L_in,L_in,wavel,z)"
   ]
  },
  {
   "cell_type": "code",
   "execution_count": null,
   "metadata": {},
   "outputs": [
    {
     "data": {
      "image/png": "[encoded data removed]",
      "text/plain": [
       "<Figure size 432x288 with 2 Axes>"
      ]
     },
     "metadata": {},
     "output_type": "display_data"
    }
   ],
   "source": [
    "f, (ax1,ax2) = plt.subplots(1,2)\n",
    "ax1.imshow(np.abs(in_wave),cmap='jet')\n",
    "ax2.imshow(np.abs(out_wave),cmap='jet')\n",
    "plt.show()"
   ]
  },
  {
   "cell_type": "code",
   "execution_count": null,
   "metadata": {},
   "outputs": [],
   "source": [
    "%timeit exact_prop_2D(in_wave,out_wave,L_in,L_in,wavel,z)"
   ]
  },
  {
   "cell_type": "code",
   "execution_count": null,
   "metadata": {},
   "outputs": [],
   "source": [
    "N_in_x = np.shape(in_wave)[0]\n",
    "N_in_y = np.shape(in_wave)[1]\n",
    "in_domain_x = np.linspace(-L_in/2,L_in/2,N_in_x)\n",
    "in_domain_y = np.linspace(-L_in/2,L_in/2,N_in_y)\n",
    "\n",
    "\n",
    "N_out_x = np.shape(out_wave)[0]\n",
    "N_out_y = np.shape(out_wave)[1]\n",
    "out_domain_x = np.linspace(-L_in/2,L_in/2,N_in_x)\n",
    "out_domain_y = np.linspace(-L_in/2,L_in/2,N_in_y)\n",
    "\n",
    "step_in_x = L_in/N_in_x\n",
    "step_in_y = L_in/N_in_y\n",
    "\n",
    "fac = ((-1j*pi)/(wavel*z))\n",
    "i = 0\n",
    "j = 0\n",
    "x1 = out_domain_x[i]\n",
    "y1 = out_domain_y[j]\n",
    "X_in,Y_in = np.meshgrid(in_domain_x,in_domain_y)"
   ]
  },
  {
   "cell_type": "code",
   "execution_count": null,
   "metadata": {},
   "outputs": [],
   "source": [
    "%timeit np.sum(in_wave*np.exp(fac*((X_in-x1)**2+(Y_in-y1)**2)))"
   ]
  },
  {
   "cell_type": "code",
   "execution_count": null,
   "metadata": {},
   "outputs": [],
   "source": [
    "%timeit ne.evaluate('sum(in_wave*exp(fac*((X_in-x1)**2+(Y_in-y1)**2)))')"
   ]
  },
  {
   "cell_type": "code",
   "execution_count": null,
   "metadata": {},
   "outputs": [],
   "source": []
  }
 ],
 "metadata": {
  "kernelspec": {
   "display_name": "Python 3",
   "language": "python",
   "name": "python3"
  },
  "language_info": {
   "codemirror_mode": {
    "name": "ipython",
    "version": 3
   },
   "file_extension": ".py",
   "mimetype": "text/x-python",
   "name": "python",
   "nbconvert_exporter": "python",
   "pygments_lexer": "ipython3",
   "version": "3.6.3"
  }
 },
 "nbformat": 4,
 "nbformat_minor": 2
}
