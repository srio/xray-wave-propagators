{
 "cells": [
  {
   "cell_type": "markdown",
   "metadata": {},
   "source": [
    "Taken from A. Bultheel and S. Martínez. Computation of the Fractional Fourier Transform. Appl. Comput. Harmon. Anal., 16(3):182--202, 2004. <br><br>\n",
    "\n",
    "The idea is to use an auxiliary matrix H that commutes with the fft matrix F to find the eigenvectors. The unique eigenvalues of FFT matrix are 1, -1, 1j, -1j. <br><br>\n",
    "\n",
    "Using the function [hermbasis](https://ltfat.github.io/doc/fourier/hermbasis_code.html) from LTFAT package as a reference."
   ]
  },
  {
   "cell_type": "code",
   "execution_count": 2,
   "metadata": {},
   "outputs": [],
   "source": [
    "import numpy as np\n",
    "import matplotlib.pyplot as plt"
   ]
  },
  {
   "cell_type": "code",
   "execution_count": 5,
   "metadata": {},
   "outputs": [],
   "source": [
    "L = 10\n",
    "d2 = np.array([1, -2, 1]) \n",
    "d_p = 1\n",
    "s = 0\n",
    "st = np.zeros(L)"
   ]
  },
  {
   "cell_type": "code",
   "execution_count": 6,
   "metadata": {},
   "outputs": [
    {
     "data": {
      "text/plain": [
       "array([ 1, -4,  6, -4,  1])"
      ]
     },
     "execution_count": 6,
     "metadata": {},
     "output_type": "execute_result"
    }
   ],
   "source": []
  },
  {
   "cell_type": "code",
   "execution_count": null,
   "metadata": {},
   "outputs": [],
   "source": []
  }
 ],
 "metadata": {
  "kernelspec": {
   "display_name": "Python [conda env:intelpy3]",
   "language": "python",
   "name": "conda-env-intelpy3-py"
  },
  "language_info": {
   "codemirror_mode": {
    "name": "ipython",
    "version": 3
   },
   "file_extension": ".py",
   "mimetype": "text/x-python",
   "name": "python",
   "nbconvert_exporter": "python",
   "pygments_lexer": "ipython3",
   "version": "3.6.5"
  }
 },
 "nbformat": 4,
 "nbformat_minor": 2
}
