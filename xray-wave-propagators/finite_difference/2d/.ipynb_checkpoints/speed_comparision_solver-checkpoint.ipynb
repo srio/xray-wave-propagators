{
 "cells": [
  {
   "cell_type": "code",
   "execution_count": 1,
   "metadata": {},
   "outputs": [],
   "source": [
    "import numpy as np\n",
    "import urllib\n",
    "import matplotlib.pyplot as plt\n",
    "from skimage.restoration import unwrap_phase\n",
    "from tqdm import trange\n",
    "from scipy.signal import gaussian\n",
    "from scipy.sparse import diags\n",
    "import scipy.sparse.linalg as splinalg\n",
    "np.set_printoptions(2)\n",
    "%load_ext Cython"
   ]
  },
  {
   "cell_type": "code",
   "execution_count": 2,
   "metadata": {},
   "outputs": [],
   "source": [
    "%%cython --compile-args=-O3\n",
    "##Taken from https://github.com/cpcloud/PyTDMA\n",
    "\n",
    "import numpy as np\n",
    "cimport cython\n",
    "\n",
    "@cython.boundscheck(False)\n",
    "@cython.wraparound(False)\n",
    "cdef void solve(int n, double[:] lower, double[:] diag, double[:] upper,\n",
    "                    double[:] rhs, double[:] x):\n",
    "    \n",
    "    cdef double m\n",
    "    cdef int i, im1, nm1 = n - 1\n",
    "    \n",
    "    for i in xrange(n):\n",
    "        im1 = i - 1\n",
    "        m = lower[i] / diag[im1]\n",
    "        diag[i] -= m * upper[im1]\n",
    "        rhs[i] -= m * rhs[im1]\n",
    "\n",
    "        x[nm1] = rhs[nm1] / diag[nm1]\n",
    "\n",
    "        for i in xrange(n - 2, -1, -1):\n",
    "            x[i] = (rhs[i] - upper[i] * x[i + 1]) / diag[i]\n",
    "\n",
    "\n",
    "cpdef double[:] tdma(double[:] a, double[:] b, double[:] c,double[:] d):\n",
    "    cdef int n = b.shape[0]\n",
    "    cdef double[:] x = np.zeros(n, dtype=np.float64)\n",
    "    solve(n, a, b, c, d, x)\n",
    "    return x"
   ]
  },
  {
   "cell_type": "code",
   "execution_count": 3,
   "metadata": {},
   "outputs": [],
   "source": [
    "N = 500\n",
    "a = np.random.random(N)\n",
    "b = np.random.random(N)\n",
    "c = np.random.random(N)\n",
    "d = np.random.random(N)"
   ]
  },
  {
   "cell_type": "code",
   "execution_count": 4,
   "metadata": {},
   "outputs": [
    {
     "name": "stdout",
     "output_type": "stream",
     "text": [
      "2.32 ms ± 46.6 µs per loop (mean ± std. dev. of 7 runs, 100 loops each)\n"
     ]
    }
   ],
   "source": [
    "%timeit np.array(tdma(a,b,c,d))"
   ]
  },
  {
   "cell_type": "code",
   "execution_count": 5,
   "metadata": {},
   "outputs": [],
   "source": [
    "x = np.random.random(N)\n",
    "b = diags(x)+diags(x[1:]**2,offsets=1)+diags(x[:-1]**3,offsets=1)"
   ]
  },
  {
   "cell_type": "code",
   "execution_count": 6,
   "metadata": {},
   "outputs": [
    {
     "name": "stdout",
     "output_type": "stream",
     "text": [
      "313 µs ± 45 µs per loop (mean ± std. dev. of 7 runs, 1000 loops each)\n"
     ]
    }
   ],
   "source": [
    "%timeit splinalg.spsolve(b,x)"
   ]
  },
  {
   "cell_type": "code",
   "execution_count": 7,
   "metadata": {},
   "outputs": [
    {
     "data": {
      "text/plain": [
       "0.001"
      ]
     },
     "execution_count": 7,
     "metadata": {},
     "output_type": "execute_result"
    }
   ],
   "source": [
    "0.5e-6*1e3*2"
   ]
  },
  {
   "cell_type": "code",
   "execution_count": null,
   "metadata": {},
   "outputs": [],
   "source": []
  }
 ],
 "metadata": {
  "kernelspec": {
   "display_name": "Python [conda env:intelpy3]",
   "language": "python",
   "name": "conda-env-intelpy3-py"
  },
  "language_info": {
   "codemirror_mode": {
    "name": "ipython",
    "version": 3
   },
   "file_extension": ".py",
   "mimetype": "text/x-python",
   "name": "python",
   "nbconvert_exporter": "python",
   "pygments_lexer": "ipython3",
   "version": "3.6.3"
  }
 },
 "nbformat": 4,
 "nbformat_minor": 2
}
