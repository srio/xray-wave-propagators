{
 "cells": [
  {
   "cell_type": "code",
   "execution_count": 1,
   "metadata": {},
   "outputs": [],
   "source": [
    "import numpy as np\n",
    "import matplotlib.pyplot as plt\n",
    "import sys\n",
    "sys.path.append(\"/home/sajid/packages/xray-wave-propagators/prop/cython/binaries\")\n",
    "import prop2d_cython_2_loop"
   ]
  },
  {
   "cell_type": "code",
   "execution_count": null,
   "metadata": {},
   "outputs": [
    {
     "name": "stdout",
     "output_type": "stream",
     "text": [
      "Use IR\n",
      "Fresnel Number : 5.0\n"
     ]
    }
   ],
   "source": [
    "wavel = 0.5*10**(-6)\n",
    "z = 100000.0\n",
    "L_in  = 0.5\n",
    "\n",
    "N = 1000\n",
    "in_wave = np.zeros((N,N))\n",
    "in_wave[int(N/2)-int(N/8):int(N/2)+int(N/8),int(N/2)-int(N/8):int(N/2)+int(N/8)] = 1\n",
    "in_wave = np.array(in_wave,dtype=np.complex128)\n",
    "N = 100\n",
    "out_wave = np.zeros((N,N),dtype=np.complex128)\n",
    "\n",
    "sampling = L_in/N\n",
    "critical = (wavel*z/L_in)\n",
    "if sampling>critical:\n",
    "    print('Use TF')\n",
    "else :\n",
    "    print('Use IR')\n",
    "print('Fresnel Number :', (L_in**2)/(wavel*z))"
   ]
  },
  {
   "cell_type": "code",
   "execution_count": null,
   "metadata": {},
   "outputs": [],
   "source": [
    "prop2d_cython_2_loop.exact_prop_2D_cython(in_wave,out_wave,L_in,L_in,0,0,wavel,z,20)"
   ]
  },
  {
   "cell_type": "code",
   "execution_count": null,
   "metadata": {},
   "outputs": [],
   "source": [
    "f, (ax1,ax2) = plt.subplots(1,2)\n",
    "ax1.imshow(np.abs(in_wave),cmap='jet')\n",
    "ax2.imshow(np.abs(out_wave),cmap='jet')\n",
    "plt.show()"
   ]
  },
  {
   "cell_type": "code",
   "execution_count": null,
   "metadata": {},
   "outputs": [],
   "source": [
    "%timeit prop2d_cython_2_loop.exact_prop_2D_cython(in_wave,out_wave,L_in,L_in,0,0,wavel,z,20)"
   ]
  },
  {
   "cell_type": "code",
   "execution_count": null,
   "metadata": {},
   "outputs": [],
   "source": []
  }
 ],
 "metadata": {
  "kernelspec": {
   "display_name": "Python 3",
   "language": "python",
   "name": "python3"
  },
  "language_info": {
   "codemirror_mode": {
    "name": "ipython",
    "version": 3
   },
   "file_extension": ".py",
   "mimetype": "text/x-python",
   "name": "python",
   "nbconvert_exporter": "python",
   "pygments_lexer": "ipython3",
   "version": "3.6.3"
  }
 },
 "nbformat": 4,
 "nbformat_minor": 2
}
